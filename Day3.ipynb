{
  "nbformat": 4,
  "nbformat_minor": 0,
  "metadata": {
    "colab": {
      "name": "Day3.ipynb",
      "provenance": [],
      "collapsed_sections": [],
      "authorship_tag": "ABX9TyO+GLQHbm1E9Oq/m5qYtsfQ",
      "include_colab_link": true
    },
    "kernelspec": {
      "name": "python3",
      "display_name": "Python 3"
    }
  },
  "cells": [
    {
      "cell_type": "markdown",
      "metadata": {
        "id": "view-in-github",
        "colab_type": "text"
      },
      "source": [
        "<a href=\"https://colab.research.google.com/github/Prithvi-Raj-M/Assignment/blob/main/Day3.ipynb\" target=\"_parent\"><img src=\"https://colab.research.google.com/assets/colab-badge.svg\" alt=\"Open In Colab\"/></a>"
      ]
    },
    {
      "cell_type": "markdown",
      "metadata": {
        "id": "vRTUFFrXEy4x"
      },
      "source": [
        "Conditional Statements"
      ]
    },
    {
      "cell_type": "code",
      "metadata": {
        "id": "R-b7zu3UyRTI"
      },
      "source": [
        "username = 'Prithvi'\n",
        "password = '9999'\n",
        "\n",
        "userpassword = input(\"Enter The Password:\")\n",
        "if userpassword==password :\n",
        "  print(\"Welcome \"+ username)\n",
        "else : \n",
        "  print(\"Password Incorrect\")\n",
        "\n",
        "    \n",
        "\n",
        "\n"
      ],
      "execution_count": null,
      "outputs": []
    },
    {
      "cell_type": "markdown",
      "metadata": {
        "id": "MMNlQe_kE6OD"
      },
      "source": [
        "Nested if"
      ]
    },
    {
      "cell_type": "code",
      "metadata": {
        "colab": {
          "base_uri": "https://localhost:8080/"
        },
        "id": "Fv0z8dYw8ZdH",
        "outputId": "6c1ec5e7-6889-4c00-b082-edf4e8712f15"
      },
      "source": [
        "username = 'Prithvi'\n",
        "password = \"9999\"\n",
        "onetime\n",
        " \n",
        "name=input(\"Enter Username:\")\n",
        "userPassword=input(\"Enter Password:\")\n",
        "\n",
        "if name==username :\n",
        "  if userPassword==password:\n",
        "    print(\"Welcome \"+username)\n",
        "  else :\n",
        "    print(\"Incorrect Password\")\n",
        "else :\n",
        "   print(\"Invalid Username\")\n",
        " \n"
      ],
      "execution_count": null,
      "outputs": [
        {
          "output_type": "stream",
          "text": [
            "Enter Usernamemanish\n",
            "Enter Password1234\n",
            "Invalid Username\n"
          ],
          "name": "stdout"
        }
      ]
    },
    {
      "cell_type": "markdown",
      "metadata": {
        "id": "9dlIdu3sNSGB"
      },
      "source": [
        "Assignment 1"
      ]
    },
    {
      "cell_type": "code",
      "metadata": {
        "colab": {
          "base_uri": "https://localhost:8080/"
        },
        "id": "dk_1UywH_t_S",
        "outputId": "9fd6833c-a831-449e-e08f-9b4e1310d8c3"
      },
      "source": [
        "username = 'Prithvi'\n",
        "password = \"9999\"\n",
        "onetimepassword = '3579'\n",
        " \n",
        "name=input(\"Enter Username:\")\n",
        "userPassword=input(\"Enter Password:\")\n",
        "otp=input(\"Enter OTP:\")\n",
        "\n",
        "if name==username :\n",
        "  if userPassword==password:\n",
        "    print(\"Welcome \"+username)\n",
        "    if otp==onetimepassword :\n",
        "      print(\"Login Successfull\")\n",
        "    else :\n",
        "      print(\"incorrect OTP \")\n",
        "  else :\n",
        "    print(\"Incorrect Password\")\n",
        "else :\n",
        "   print(\"Invalid Username\")"
      ],
      "execution_count": null,
      "outputs": [
        {
          "output_type": "stream",
          "text": [
            "Enter Usernameprithvi\n",
            "Enter Password0404\n",
            "Enter OTP4444\n",
            "Invalid Username\n"
          ],
          "name": "stdout"
        }
      ]
    },
    {
      "cell_type": "markdown",
      "metadata": {
        "id": "obLiJcngGCCo"
      },
      "source": [
        "Assignemt 2"
      ]
    },
    {
      "cell_type": "code",
      "metadata": {
        "colab": {
          "base_uri": "https://localhost:8080/"
        },
        "id": "kzJpVavKB0e_",
        "outputId": "00079e81-a1cc-45e0-8d35-fb6fd5ae04aa"
      },
      "source": [
        "marks=int(input(\"Enter Your Marks\"))\n",
        "\n",
        "if marks >= 90 :\n",
        "  print(\"Grade A+\") \n",
        "elif marks >= 80 :\n",
        "  print(\"Grade A\")\n",
        "elif marks >= 70:\n",
        "  print(\"Grade B+\")\n",
        "elif marks >= 60:\n",
        "  print(\"Grade B\")\n",
        "elif marks >= 50:\n",
        "  print(\"Grade C+\")\n",
        "elif marks >= 40:\n",
        "  print(\"Grade C\")\n",
        "else:\n",
        "  print(\"Failed\")"
      ],
      "execution_count": null,
      "outputs": [
        {
          "output_type": "stream",
          "text": [
            "Enter Your Marks72\n",
            "Grade B+\n"
          ],
          "name": "stdout"
        }
      ]
    },
    {
      "cell_type": "markdown",
      "metadata": {
        "id": "cUMjhpIrNU3q"
      },
      "source": [
        "for Loop"
      ]
    },
    {
      "cell_type": "code",
      "metadata": {
        "colab": {
          "base_uri": "https://localhost:8080/"
        },
        "id": "Pm-46cELJOQH",
        "outputId": "a7323396-43cb-4ede-c27e-771cd67b4b5c"
      },
      "source": [
        "for i in range(12):\n",
        "   print(i)"
      ],
      "execution_count": null,
      "outputs": [
        {
          "output_type": "stream",
          "text": [
            "0\n",
            "1\n",
            "2\n",
            "3\n",
            "4\n",
            "5\n",
            "6\n",
            "7\n",
            "8\n",
            "9\n",
            "10\n",
            "11\n"
          ],
          "name": "stdout"
        }
      ]
    },
    {
      "cell_type": "code",
      "metadata": {
        "colab": {
          "base_uri": "https://localhost:8080/",
          "height": 129
        },
        "id": "KNK4fLU_GU4N",
        "outputId": "7a2f52d5-4e65-48c9-fb6a-75357d705e07"
      },
      "source": [
        "num1 = int(input(\"Enter a Number\")\n",
        "for i in range(num1,18) :\n",
        "  print(i)\n"
      ],
      "execution_count": null,
      "outputs": [
        {
          "output_type": "error",
          "ename": "SyntaxError",
          "evalue": "ignored",
          "traceback": [
            "\u001b[0;36m  File \u001b[0;32m\"<ipython-input-45-29eba8e307a6>\"\u001b[0;36m, line \u001b[0;32m2\u001b[0m\n\u001b[0;31m    for i in range(18) :\u001b[0m\n\u001b[0m                       ^\u001b[0m\n\u001b[0;31mSyntaxError\u001b[0m\u001b[0;31m:\u001b[0m invalid syntax\n"
          ]
        }
      ]
    },
    {
      "cell_type": "code",
      "metadata": {
        "colab": {
          "base_uri": "https://localhost:8080/"
        },
        "id": "GX6W4kvQJ72P",
        "outputId": "521e861d-33fb-4401-96c2-b99fda7f9478"
      },
      "source": [
        "for num1 in range(20) :\n",
        "  if num1%2==0 :\n",
        "    print(num1)"
      ],
      "execution_count": null,
      "outputs": [
        {
          "output_type": "stream",
          "text": [
            "0\n",
            "2\n",
            "4\n",
            "6\n",
            "8\n",
            "10\n",
            "12\n",
            "14\n",
            "16\n",
            "18\n"
          ],
          "name": "stdout"
        }
      ]
    },
    {
      "cell_type": "markdown",
      "metadata": {
        "id": "yVSQQtK7NaKc"
      },
      "source": [
        "List\n"
      ]
    },
    {
      "cell_type": "code",
      "metadata": {
        "colab": {
          "base_uri": "https://localhost:8080/"
        },
        "id": "Nc50cqRzKnV0",
        "outputId": "c2c58955-5e66-48fb-8fbc-b2fd91bf390d"
      },
      "source": [
        "students = [\"Raman\",\"Raju\",\"Pranav\",\"Sidharth\",\"Sam\",\"Chloe\"]\n",
        "print(students[5])\n",
        "print(students[-3])\n",
        "print(students[1:4])"
      ],
      "execution_count": null,
      "outputs": [
        {
          "output_type": "stream",
          "text": [
            "Chloe\n",
            "Sidharth\n",
            "['Raju', 'Pranav', 'Sidharth']\n"
          ],
          "name": "stdout"
        }
      ]
    },
    {
      "cell_type": "code",
      "metadata": {
        "colab": {
          "base_uri": "https://localhost:8080/"
        },
        "id": "GcDPwCBVMk_k",
        "outputId": "d45a2744-a6ca-4b97-f7fe-3963a670d6e4"
      },
      "source": [
        "for a in students:\n",
        "  print(\"Welcome \"+a)"
      ],
      "execution_count": null,
      "outputs": [
        {
          "output_type": "stream",
          "text": [
            "Welcome Raman\n",
            "Welcome Raju\n",
            "Welcome Pranav\n",
            "Welcome Sidharth\n",
            "Welcome Sam\n",
            "Welcome Chloe\n"
          ],
          "name": "stdout"
        }
      ]
    },
    {
      "cell_type": "markdown",
      "metadata": {
        "id": "JrRqDYsVToUL"
      },
      "source": [
        "break Statement"
      ]
    },
    {
      "cell_type": "code",
      "metadata": {
        "colab": {
          "base_uri": "https://localhost:8080/"
        },
        "id": "CQPaoucAPP_M",
        "outputId": "58197d8c-c7e6-44ba-fbcd-e2b9782e7f14"
      },
      "source": [
        "for a in students:\n",
        "  print(\"Welcome\"+a) \n",
        "\n",
        "  if a== \"Sam\":\n",
        "    break"
      ],
      "execution_count": null,
      "outputs": [
        {
          "output_type": "stream",
          "text": [
            "WelcomeRaman\n",
            "WelcomeRaju\n",
            "WelcomePranav\n",
            "WelcomeSidharth\n",
            "WelcomeSam\n"
          ],
          "name": "stdout"
        }
      ]
    },
    {
      "cell_type": "code",
      "metadata": {
        "id": "YWask4iPL0kd"
      },
      "source": [
        ""
      ],
      "execution_count": null,
      "outputs": []
    },
    {
      "cell_type": "markdown",
      "metadata": {
        "id": "U-4NhEA-Tk_Y"
      },
      "source": [
        "Assignment 3"
      ]
    },
    {
      "cell_type": "code",
      "metadata": {
        "colab": {
          "base_uri": "https://localhost:8080/",
          "height": 214
        },
        "id": "zeIeb2UzQhkp",
        "outputId": "165a8999-879c-481b-d14c-9f775c0b9a19"
      },
      "source": [
        "studentMarks={\n",
        "    \"John\" : 97,\n",
        "    \"Samuel\" : 85,\n",
        "    \"Aaron\" : 67,\n",
        "    \"Peter\" : 90,\n",
        "    \"India\" : 77,\n",
        "}\n",
        "for a in studentMarks:\n",
        "  if studentMarks[a] < 70:\n",
        "    print(a)\n",
        "    print(studentMarks[a]+ \"Failed\")"
      ],
      "execution_count": null,
      "outputs": [
        {
          "output_type": "stream",
          "text": [
            "Aaron\n"
          ],
          "name": "stdout"
        },
        {
          "output_type": "error",
          "ename": "TypeError",
          "evalue": "ignored",
          "traceback": [
            "\u001b[0;31m---------------------------------------------------------------------------\u001b[0m",
            "\u001b[0;31mTypeError\u001b[0m                                 Traceback (most recent call last)",
            "\u001b[0;32m<ipython-input-2-040cbb40f566>\u001b[0m in \u001b[0;36m<module>\u001b[0;34m()\u001b[0m\n\u001b[1;32m      9\u001b[0m   \u001b[0;32mif\u001b[0m \u001b[0mstudentMarks\u001b[0m\u001b[0;34m[\u001b[0m\u001b[0ma\u001b[0m\u001b[0;34m]\u001b[0m \u001b[0;34m<\u001b[0m \u001b[0;36m70\u001b[0m\u001b[0;34m:\u001b[0m\u001b[0;34m\u001b[0m\u001b[0;34m\u001b[0m\u001b[0m\n\u001b[1;32m     10\u001b[0m     \u001b[0mprint\u001b[0m\u001b[0;34m(\u001b[0m\u001b[0ma\u001b[0m\u001b[0;34m)\u001b[0m\u001b[0;34m\u001b[0m\u001b[0;34m\u001b[0m\u001b[0m\n\u001b[0;32m---> 11\u001b[0;31m     \u001b[0mprint\u001b[0m\u001b[0;34m(\u001b[0m\u001b[0mstudentMarks\u001b[0m\u001b[0;34m[\u001b[0m\u001b[0ma\u001b[0m\u001b[0;34m]\u001b[0m\u001b[0;34m+\u001b[0m \u001b[0;34m\"Failed\"\u001b[0m\u001b[0;34m)\u001b[0m\u001b[0;34m\u001b[0m\u001b[0;34m\u001b[0m\u001b[0m\n\u001b[0m",
            "\u001b[0;31mTypeError\u001b[0m: unsupported operand type(s) for +: 'int' and 'str'"
          ]
        }
      ]
    }
  ]
}